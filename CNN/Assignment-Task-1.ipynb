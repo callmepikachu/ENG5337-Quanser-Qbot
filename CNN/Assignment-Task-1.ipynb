{
 "cells": [
  {
   "cell_type": "markdown",
   "metadata": {},
   "source": [
    "# Coding assignment\n",
    "\n",
    "<font color='magenta'>**Reasoning behind this assignment**</font>\n",
    "***\n",
    "\n",
    "I just feel/know that we have learned a lot of theory about **Deep Neural Network** and **Convolution Neural Network** but we did not have enough computer time for you to practice all the theory we learned so far. I don't like the fact that we could not give you enough chances to play around the code and the Jupyter Notebooks I uploaded. So I create this code assignment with the hope that you will be able to deploy not only the theory we learned but also the tutorial Jupyter Notebooks I uploaded. For this reason, the assignment may appear overwhelmed in the first place, but it does not require as much effort as you might think. In fact, I solved all the tasked by myself before writing them down, making sure that most (of course not all) of the knowledge you need has been available via Jupyter Notebooks uploaded on Moodle and of course the lectures. So, the tasks will not look difficult after you play around with the uploaded Jupyter Notebooks carefully.\n",
    "\n",
    "\n",
    "In this notebook, you are given two main tasks and the first task consists two sub-tasks. Don't freak out yet $\\ldots$. A lot of things can be done quite easily if study the uploaded Jupyter Notebooks reasonably carefully. The main tasks can be described as follows.\n",
    "\n",
    "1. Task 1: Build machine learning models for **classifying MRI images of brains with tumors**\n",
    "    - Task 1A: Build machine learning models using a quite big dataset $\\mathcal{D}$.\n",
    "    - Task 1B: Build machine learning models using a small dataset which is a subset of $\\mathcal{D}\n",
    "2. Task 2: Create a fancy, stylish image with **neural style transfer**\n",
    "\n",
    "\n",
    "<font color='magenta'>**Report**</font>\n",
    "***\n",
    "You do not need to write separate report as a word file or a pdf file. It is nonsense in my opinion. You have to write all of your explanation, observation, conclusion (well, not necessarily like a report but like a dialogue with me) in the Jupyter Notebooks you will submit. In this way, you have motivation to learn a bit of Markdown syntax -- just $20$ mins to learn and use it for the rest of your life, why not?\n",
    "\n",
    "\n",
    "<font color='magenta'>**Marking Scheme**</font>\n",
    "***\n",
    "The following marking scheme will be applied\n",
    "\n",
    "- **$35\\%$ is for completion of the assignment.**  \n",
    "Even though all the tasks were attempted, I must sometimes spend a lot of time fixing the bugs to run the code. Equally important, sometimes the ideas, by themselves, are fine but the implementation was done incorrectly.\n",
    "- **$30\\%$ is for prediction power of the models you build.**  \n",
    "Obviously, a model with better accuracy deserves better grade. Otherwise, even baseline model classifying every image as one particular class would just complete the task. But the above-described model is not what we want after learning a great theory and complicated code. The model with better accuracy often needs more research effort and thus deserves better grades. Of course I will not always rank $90\\%$ better than $88\\%-89\\%$ because a gap like $1\\%$ or $2\\%$ can result from various factors such as initilization of the model, learning rates, number of epochs, etc. So, I will make decision on the ideas too. But the ultimate goal is \"the higher accuracy the model can predcit, the better the model can be deployed.\"\n",
    "- **$25\\%$ is for presentation of your work.**  \n",
    "The presentation involves, for example, how you present obtained results and your logics behind the models you build, etc. This is to prove how much effort you put into presenting the results to the customers who will pay for your models to be deployed.\n",
    "- **$10\\%$ is for the efficiency of your code.**  \n",
    "As Year-5 and MSc students, you are supposed to write efficient code, not just any code that runs."
   ]
  },
  {
   "cell_type": "markdown",
   "metadata": {},
   "source": [
    "# Classifying MRI images of brain tumors\n",
    "\n",
    "You are given a dataset of MRI images of brain with tumors. The dataset is bigger than the allowed limit size on Moodle, so you can download them from two different sources:\n",
    "- [OneDrive](https://gla-my.sharepoint.com/:f:/g/personal/khiem_nguyen_glasgow_ac_uk/EjgcK9WVJLFMs6q3C1cuONkBnJ_dW_PsbMD31a6T-BMwog?e=J8Ry1F)\n",
    "- [Dropbox](https://www.dropbox.com/scl/fo/czw1lz3i181xy8nxo1bpl/AO1k2G-mw0ZzKnxyMxcsyZY?rlkey=a0i3bbkor81h0a4utwlhyywef&dl=0)\n",
    "\n",
    "If you open unzip the downloaded file, you will see two subfolders\n",
    "- Folder **train** with $5712$ images \n",
    "- Folder **valid** with $1311$ images\n",
    "\n",
    "In both of these subfolders, namely folders <u>train</u> and <u>valid</u>, you can find four sub-subfolders\n",
    "\n",
    "1. Folder *glioma*胶质瘤\n",
    "2. Folder *meningioma*脑膜瘤\n",
    "3. Folder *notumor*无肿瘤\n",
    "4. Folder \"pituitary*垂体瘤\n",
    "\n",
    "Honestly, I don't really know what these tumor types mean but I know for sure the category \"notumor\" just means \"no tumor\". For illustrations, three images for each category are shown below. You can see more in the downloaded foler.\n",
    "\n",
    "**glioma**\n",
    "\n",
    "<img src=\"./figures/Tr-gl_0010.jpg\" alt=\"glioma-1\" width=\"250\"/>  \n",
    "<img src=\"./figures/Tr-gl_0011.jpg\" alt=\"glioma-2\" width=\"250\"/> \n",
    "<img src=\"./figures/Tr-gl_0012.jpg\" alt=\"glioma-3\" width=\"250\"/> \n",
    "\n",
    "**meningioma**\n",
    "\n",
    "<img src=\"./figures/Tr-me_0010.jpg\" alt=\"glioma-1\" width=\"250\"/>  \n",
    "<img src=\"./figures/Tr-me_0011.jpg\" alt=\"glioma-2\" width=\"250\"/> \n",
    "<img src=\"./figures/Tr-me_0012.jpg\" alt=\"glioma-3\" width=\"250\"/> \n",
    "\n",
    "**no tumor**\n",
    "\n",
    "<img src=\"./figures/Tr-no_0010.jpg\" alt=\"glioma-1\" width=\"250\"/>  \n",
    "<img src=\"./figures/Tr-no_0011.jpg\" alt=\"glioma-2\" width=\"250\"/> \n",
    "<img src=\"./figures/Tr-no_0012.jpg\" alt=\"glioma-3\" width=\"250\"/> \n",
    "\n",
    "**pituitary**\n",
    "\n",
    "<img src=\"./figures/Tr-pi_0010.jpg\" alt=\"glioma-1\" width=\"250\"/>  \n",
    "<img src=\"./figures/Tr-pi_0011.jpg\" alt=\"glioma-2\" width=\"250\"/> \n",
    "<img src=\"./figures/Tr-pi_0012.jpg\" alt=\"glioma-3\" width=\"250\"/> \n",
    "\n",
    "<font color='magenta'><u>**Ultimate objective**</u></font> of this task is **to build a machine learning model to classify RMI images of brain with tumors**.\n",
    "\n",
    "But hold on, if it is that simple, there won't be enough challenges and chances to learn anything.\n",
    "\n",
    "**Mini dataset**\n",
    "\n",
    "I created a subset of the original dataset with only a fraction of original number of images. You will have to build machine learning models using this small dataset, pretending that the original database with a lot more MRI images is not avaiable.\n",
    "\n",
    "**Conclusion**\n",
    "\n",
    "I hope that after working through Task 1, splitted into two subtasks 1A and 1B, you will understand why deep learning has become popular these days. Particularly, you will see that deep learning becomes powerful when we have a lot of data for trainining our machine learning models. The machine learning model trained on a rich and qualitive database tends to outperform the models trained on a smaller set of data."
   ]
  },
  {
   "cell_type": "markdown",
   "metadata": {},
   "source": [
    "## Task 1A\n",
    "\n",
    "In this task you need to build a model using the the big dataset with $7023$ MRI images. You have complete freedom: you need to decide all the steps you need to take. These steps may involve\n",
    "\n",
    "- How do you want to read the images and store the data?\n",
    "- What machine learning model do you want to use? \n",
    "- How do you build such a model using the building blocks such as linear layer, convolution layer, pooling layers and so on. You can use more complex layers in PyTorch if you want.\n",
    "- How do you want to train your model?\n",
    "- How do you want to evaluate your model? I normally evaluate my model on the validiation set. But feel free if you need to do it differently. Just give me the good reasonsing for it.\n",
    "- and so on\n",
    "\n",
    "**Remark**  \n",
    "\n",
    "Note that your code must use PyTorch, not TensorFlow, for full consideration.\n",
    "\n",
    "<u>**Hint**</u>  \n",
    "Of course all you need is what I already gave in the uploaded Jupyter Notebooks. But you can use whatever you like and whatever you find on the internet. Just make sure that you can explain what you are doing. *I am not Google or ChatGPT. I don't know everything you find on Google and ChatGPT.* As long as you can communicate your Jupyter Notebooks well, I will try to understand what you try to achieve."
   ]
  },
  {
   "metadata": {
    "ExecuteTime": {
     "end_time": "2025-03-10T10:20:08.322593Z",
     "start_time": "2025-03-10T10:20:03.041026Z"
    }
   },
   "cell_type": "code",
   "source": [
    "import torch\n",
    "import torch.nn as nn\n",
    "import torch.optim as optim\n",
    "from torch.optim import lr_scheduler\n",
    "from torchvision import datasets, models, transforms\n",
    "import os\n",
    "\n",
    "device = torch.device(\"mps\" if torch.backends.mps.is_available() else \"cpu\")\n",
    "print(f\"Using device: {device}\")"
   ],
   "outputs": [
    {
     "name": "stdout",
     "output_type": "stream",
     "text": [
      "Using device: mps\n"
     ]
    }
   ],
   "execution_count": 1
  },
  {
   "metadata": {
    "ExecuteTime": {
     "end_time": "2025-03-10T10:24:38.495476Z",
     "start_time": "2025-03-10T10:24:38.465327Z"
    }
   },
   "cell_type": "code",
   "source": [
    "# preprossessing）\n",
    "data_transforms = {\n",
    "    'train': transforms.Compose([\n",
    "        transforms.Resize(256),\n",
    "        transforms.RandomCrop(224),\n",
    "        transforms.RandomHorizontalFlip(),\n",
    "        transforms.RandomRotation(20),\n",
    "        transforms.ToTensor(),\n",
    "        transforms.Normalize([0.485, 0.456, 0.406], [0.229, 0.224, 0.225])\n",
    "    ]),\n",
    "    'valid': transforms.Compose([\n",
    "        transforms.Resize(256),\n",
    "        transforms.CenterCrop(224),\n",
    "        transforms.ToTensor(),\n",
    "        transforms.Normalize([0.485, 0.456, 0.406], [0.229, 0.224, 0.225])\n",
    "    ]),\n",
    "}\n",
    "\n",
    "data_dir = 'assignment-dataset/brain-tumor'\n",
    "train_dir = os.path.join(data_dir, 'train')\n",
    "valid_dir = os.path.join(data_dir, 'valid')\n",
    "\n",
    "# 创建数据集\n",
    "image_datasets = {\n",
    "    'train': datasets.ImageFolder(train_dir, data_transforms['train']),\n",
    "    'valid': datasets.ImageFolder(valid_dir, data_transforms['valid'])\n",
    "}"
   ],
   "outputs": [],
   "execution_count": 2
  },
  {
   "metadata": {
    "jupyter": {
     "is_executing": true
    },
    "ExecuteTime": {
     "start_time": "2025-03-10T10:54:01.149277Z"
    }
   },
   "cell_type": "code",
   "source": [
    "# 优化数据加载配置（调整num_workers）\n",
    "batch_size = 32  # M系列芯片内存更大，可适当增加\n",
    "dataloaders = {\n",
    "    'train': torch.utils.data.DataLoader(\n",
    "        image_datasets['train'],\n",
    "        batch_size=batch_size,\n",
    "        shuffle=True,\n",
    "        num_workers=8,  # 增加worker数量\n",
    "        pin_memory=True  # 启用内存锁页\n",
    "    ),\n",
    "    'valid': torch.utils.data.DataLoader(\n",
    "        image_datasets['valid'],\n",
    "        batch_size=batch_size,\n",
    "        shuffle=False,\n",
    "        num_workers=8,\n",
    "        pin_memory=True\n",
    "    )\n",
    "}\n",
    "\n",
    "# 初始化模型（保持RGB输入）\n",
    "model = models.resnet18(weights=models.ResNet18_Weights.IMAGENET1K_V1)\n",
    "num_ftrs = model.fc.in_features\n",
    "model.fc = nn.Linear(num_ftrs, 4)  # 4个输出类别\n",
    "model = model.to(device)\n",
    "\n",
    "# 优化器配置（添加梯度裁剪）\n",
    "optimizer = optim.AdamW(model.parameters(), lr=0.001, weight_decay=1e-4)\n",
    "scheduler = lr_scheduler.CosineAnnealingLR(optimizer, T_max=25)\n",
    "\n",
    "from torch.amp import  GradScaler, autocast\n",
    "\n",
    "def train_model(model, criterion, optimizer, scheduler, num_epochs=25):\n",
    "    best_acc = 0.0\n",
    "    scaler = GradScaler()  # 自动混合精度\n",
    "    \n",
    "    for epoch in range(num_epochs):\n",
    "        print(f'Epoch {epoch+1}/{num_epochs}')\n",
    "        # 在训练循环中添加\n",
    "        print(torch.mps.current_allocated_memory()/1024**3, \"GB used\")\n",
    "        for phase in ['train', 'valid']:\n",
    "            if phase == 'train':\n",
    "                model.train()\n",
    "            else:\n",
    "                model.eval()\n",
    "            \n",
    "            running_loss = 0.0\n",
    "            running_corrects = 0\n",
    "            \n",
    "            for inputs, labels in dataloaders[phase]:\n",
    "                inputs = inputs.to(device, non_blocking=True)\n",
    "                labels = labels.to(device, non_blocking=True)\n",
    "                \n",
    "                optimizer.zero_grad()\n",
    "                \n",
    "                with torch.set_grad_enabled(phase == 'train'):\n",
    "                    with autocast():  # 混合精度\n",
    "                        outputs = model(inputs)\n",
    "                        loss = criterion(outputs, labels)\n",
    "                        _, preds = torch.max(outputs, 1)\n",
    "                    \n",
    "                    if phase == 'train':\n",
    "                        scaler.scale(loss).backward()\n",
    "                        torch.nn.utils.clip_grad_norm_(model.parameters(), 1.0)  # 梯度裁剪\n",
    "                        scaler.step(optimizer)\n",
    "                        scaler.update()\n",
    "                \n",
    "                running_loss += loss.item() * inputs.size(0)\n",
    "                running_corrects += torch.sum(preds == labels.data)\n",
    "            \n",
    "            epoch_loss = running_loss / len(image_datasets[phase])\n",
    "            epoch_acc = running_corrects.float() / len(image_datasets[phase])\n",
    "            \n",
    "            print(f'{phase} Loss: {epoch_loss:.4f} Acc: {epoch_acc:.4f}')\n",
    "            \n",
    "            if phase == 'valid' and epoch_acc > best_acc:\n",
    "                best_acc = epoch_acc\n",
    "                torch.save(model.state_dict(), 'best_model.pth')\n",
    "        \n",
    "        scheduler.step()\n",
    "    \n",
    "    return model\n",
    "\n",
    "# 开始训练\n",
    "criterion = nn.CrossEntropyLoss()\n",
    "model = train_model(model, criterion, optimizer, scheduler, num_epochs=30)"
   ],
   "outputs": [
    {
     "name": "stdout",
     "output_type": "stream",
     "text": [
      "Epoch 1/30\n",
      "0.32010555267333984 GB used\n"
     ]
    },
    {
     "name": "stderr",
     "output_type": "stream",
     "text": [
      "/var/folders/m1/dz6zsv052q319bqsbfdq06qm0000gn/T/ipykernel_73173/813096240.py:35: FutureWarning: `torch.cuda.amp.GradScaler(args...)` is deprecated. Please use `torch.amp.GradScaler('cuda', args...)` instead.\n",
      "  scaler = GradScaler()  # 自动混合精度\n",
      "/var/folders/m1/dz6zsv052q319bqsbfdq06qm0000gn/T/ipykernel_73173/813096240.py:57: FutureWarning: `torch.cuda.amp.autocast(args...)` is deprecated. Please use `torch.amp.autocast('cuda', args...)` instead.\n",
      "  with autocast():  # 混合精度\n"
     ]
    },
    {
     "name": "stdout",
     "output_type": "stream",
     "text": [
      "train Loss: 0.3864 Acc: 0.8615\n"
     ]
    }
   ],
   "execution_count": null
  },
  {
   "cell_type": "markdown",
   "metadata": {},
   "source": [
    "## Task 1B\n",
    "\n",
    "In this task you need to build a model using the mini dataset which is a subset of the original dataset. I created this dataset with Python code (uploaded). \n",
    "\n",
    "- In this task, you can train the model you have built in task 1A and observe the prediction accuracy of the model. \n",
    "    - What do you see? \n",
    "    - Is it better or worse? \n",
    "    - Can you make any conclusion about the trained model when the dataset is much smaller than the original dataset.\n",
    "- Also, in this task, you need to apply **transfer learning** approach in building your model. In particular, you should modify a classic and pretrained neural network so that it fits your need to solve this specific classification problem. \n",
    "    - You can use whatever classic models you want, just explain briefly why you want to choose such a model. \n",
    "    - You can choose how many classic networks you want to play around and present them all if you want. I am happy with just one working model. Don't expect that you have more points by throwing $10$ different models at me while the key idea is the same. (❁´◡`❁)\n",
    "\n",
    "**Available classic networks in PyTorch**  \n",
    "\n",
    "You will find this documentation helpful: [torchvision.models](https://pytorch.org/vision/0.20/models.html). If you feel overwhelmed about what you look at, you can just use widely used networks such as ResNet (residual networks), VGG-16 or VGG-19. You can already find examples in the uploaded Jupyter Notebooks."
   ]
  },
  {
   "cell_type": "markdown",
   "metadata": {},
   "source": [
    "## Save your models and evidence of your model accuracy\n",
    "\n",
    "To make sure that you do not lose your precious effort and model, I encourage you to save your model using one of the following strategies:\n",
    "- Save/Load `state_dict` (Recommended)\n",
    "- Save/Load Entire Model\n",
    "\n",
    "I believe that I illustrated how to save/load machine learning models in my uploaded Jupyter Notebook. However, I just repeat it here so that you understand what I mean. I used the code I already provided in the notebook <font color='yellow'>\"logistic-regression.ipynb\"</font>\n",
    "\n",
    "**About saving your model state**\n",
    "\n",
    "You must save your trained model and this will be your evidence when you tell me that you could obtain the accuracy of $90\\%$ on the validation set of test set. Otherwise, it is hard for me to justify what you claim.\n",
    "\n",
    "**About loading your model state**\n",
    "\n",
    "It will be extremely helpful if you can also write the code that load your model state so that I don't have to train your model again on my poor laptop."
   ]
  },
  {
   "cell_type": "markdown",
   "metadata": {},
   "source": [
    "### Illustration code for save/load model states"
   ]
  },
  {
   "cell_type": "code",
   "execution_count": 17,
   "metadata": {},
   "outputs": [],
   "source": [
    "import numpy as np\n",
    "import matplotlib.pyplot as plt\n",
    "import torch\n",
    "import torch.nn as nn\n",
    "from sklearn.preprocessing import PolynomialFeatures\n",
    "from tqdm import tqdm\n",
    "import torch.nn.functional as F"
   ]
  },
  {
   "cell_type": "code",
   "execution_count": 18,
   "metadata": {},
   "outputs": [],
   "source": [
    "# Generate a dataset\n",
    "torch.manual_seed(seed=42)\n",
    "X = torch.randn(size=(500, 2))\n",
    "c = torch.tensor([0.25, 0.25])\n",
    "r = torch.tensor([1.5, 1])\n",
    "theta = torch.tensor(torch.pi/4)\n",
    "\n",
    "a = (X[:,0] - c[0]) * torch.cos(theta) + (X[:,1] - c[1]) * torch.sin(theta)\n",
    "b = (X[:,0] - c[0]) * torch.sin(theta) - (X[:,1] - c[1]) * torch.cos(theta)\n",
    "mask = a**2 / r[0]**2 + b**2 / r[1]**2 <= 1\n",
    "y = torch.zeros(size=(X.shape[0],), dtype=torch.float32)\n",
    "y[mask] = 1.0\n",
    "\n",
    "n_samples, n_features = X.shape\n",
    "t = torch.linspace(0, 2*torch.pi, 100)\n",
    "xx = c[0] + r[0] * torch.cos(t) * torch.cos(theta) - r[1] * torch.sin(t) * torch.sin(theta)\n",
    "yy = c[1] + r[0] * torch.cos(t) * torch.sin(theta) + r[1] * torch.sin(t) * torch.cos(theta)"
   ]
  },
  {
   "cell_type": "code",
   "execution_count": 19,
   "metadata": {},
   "outputs": [],
   "source": [
    "poly = PolynomialFeatures(degree=2, include_bias=False)\n",
    "X_poly = poly.fit_transform(X)\n",
    "X_poly = torch.from_numpy(X_poly.astype(np.float32))"
   ]
  },
  {
   "cell_type": "code",
   "execution_count": 20,
   "metadata": {},
   "outputs": [],
   "source": [
    "# Define the model\n",
    "class LogisticRegression(nn.Module):\n",
    "    def __init__(self,n_features):\n",
    "        super().__init__()\n",
    "        self.n_classes = 2\n",
    "        self.lin = nn.Linear(in_features=n_features, out_features=1)\n",
    "\n",
    "    def forward(self, x):\n",
    "        x = self.lin(x)\n",
    "        x = nn.functional.sigmoid(x)\n",
    "        return x.flatten()\n",
    "    \n",
    "model = LogisticRegression(n_features=X_poly.shape[1])"
   ]
  },
  {
   "cell_type": "code",
   "execution_count": 21,
   "metadata": {},
   "outputs": [
    {
     "name": "stdout",
     "output_type": "stream",
     "text": [
      "Epoch [1 / 100]: loss = 0.72338\n",
      "Epoch [10 / 100]: loss = 0.62800\n",
      "Epoch [20 / 100]: loss = 0.56851\n",
      "Epoch [30 / 100]: loss = 0.52773\n",
      "Epoch [40 / 100]: loss = 0.49591\n",
      "Epoch [50 / 100]: loss = 0.46968\n",
      "Epoch [60 / 100]: loss = 0.44743\n",
      "Epoch [70 / 100]: loss = 0.42817\n",
      "Epoch [80 / 100]: loss = 0.41126\n",
      "Epoch [90 / 100]: loss = 0.39625\n",
      "Epoch [100 / 100]: loss = 0.38280\n"
     ]
    }
   ],
   "source": [
    "EPOCHS = int(1e2)\n",
    "criterion = nn.BCELoss()\n",
    "optimizer = torch.optim.SGD(model.parameters(), lr=0.1)\n",
    "n_prints = 10\n",
    "print_every = int(EPOCHS/n_prints)\n",
    "for epoch in range(EPOCHS):\n",
    "    # zero out the gradients\n",
    "    optimizer.zero_grad()\n",
    "    # forward pass\n",
    "    y_prob = model(X_poly)\n",
    "    loss = criterion(y_prob, y)\n",
    "    if (epoch % print_every == print_every - 1) or (epoch == EPOCHS-1) or (epoch == 0):\n",
    "        print(f\"Epoch [{epoch+1} / {EPOCHS}]: loss = {loss.item():6.5f}\")\n",
    "    # backward pass\n",
    "    loss.backward()\n",
    "    optimizer.step()"
   ]
  },
  {
   "cell_type": "code",
   "execution_count": 22,
   "metadata": {},
   "outputs": [
    {
     "name": "stdout",
     "output_type": "stream",
     "text": [
      "accuracy score = 0.9620\n"
     ]
    }
   ],
   "source": [
    "probs = model(X_poly)\n",
    "preds = torch.zeros_like(probs)\n",
    "preds[probs >= 0.5] = 1\n",
    "accuracy_score = torch.sum(preds == y) / n_samples\n",
    "print(f\"accuracy score = {accuracy_score:5.4f}\")"
   ]
  },
  {
   "cell_type": "code",
   "execution_count": 23,
   "metadata": {},
   "outputs": [
    {
     "name": "stdout",
     "output_type": "stream",
     "text": [
      "Model's state_dict:\n",
      "lin.weight \t torch.Size([1, 5])\n",
      "lin.bias \t torch.Size([1])\n",
      "Optimizer's state_dict:\n",
      "state \t {}\n",
      "param_groups \t [{'lr': 0.1, 'momentum': 0, 'dampening': 0, 'weight_decay': 0, 'nesterov': False, 'maximize': False, 'foreach': None, 'differentiable': False, 'fused': None, 'params': [0, 1]}]\n"
     ]
    }
   ],
   "source": [
    "# Before saving the model state_dict, let us see what it is\n",
    "\n",
    "# Print model's state_dict\n",
    "print(\"Model's state_dict:\")\n",
    "for param_tensor in model.state_dict():\n",
    "    print(param_tensor, \"\\t\", model.state_dict()[param_tensor].size())\n",
    "\n",
    "# We can do the same for optimizer:\n",
    "print(\"Optimizer's state_dict:\")\n",
    "for var_name in optimizer.state_dict():\n",
    "    print(var_name, \"\\t\", optimizer.state_dict()[var_name])"
   ]
  },
  {
   "cell_type": "code",
   "execution_count": 24,
   "metadata": {},
   "outputs": [],
   "source": [
    "PATH = './best_logitisc_regression_model_state.pt'  # you can use extension .pth \n",
    "torch.save(model.state_dict(), PATH)"
   ]
  },
  {
   "cell_type": "code",
   "execution_count": 25,
   "metadata": {},
   "outputs": [],
   "source": [
    "# Now, let us define another model and then load the state_dict into that model.\n",
    "# Note that the model you we define must have the same state_dict structure as \n",
    "# the one we have just saved. In other words, we want to have the same model as \n",
    "# we used before."
   ]
  },
  {
   "cell_type": "code",
   "execution_count": 26,
   "metadata": {},
   "outputs": [
    {
     "name": "stdout",
     "output_type": "stream",
     "text": [
      "accuracy score = 0.2540\n"
     ]
    }
   ],
   "source": [
    "another_model = LogisticRegression(n_features=X_poly.shape[1])\n",
    "\n",
    "probs = another_model(X_poly)\n",
    "preds = torch.zeros_like(probs)\n",
    "preds[probs >= 0.5] = 1\n",
    "accuracy_score = torch.sum(preds == y) / n_samples\n",
    "print(f\"accuracy score = {accuracy_score:5.4f}\")\n",
    "\n",
    "# You can see that the accuracy is just shitty as we have not done any training.\n"
   ]
  },
  {
   "cell_type": "code",
   "execution_count": 27,
   "metadata": {},
   "outputs": [
    {
     "data": {
      "text/plain": [
       "<All keys matched successfully>"
      ]
     },
     "execution_count": 27,
     "metadata": {},
     "output_type": "execute_result"
    }
   ],
   "source": [
    "# Now we load the state_dict we just saved above into the model\n",
    "another_model.load_state_dict(torch.load(PATH, weights_only=True))"
   ]
  },
  {
   "cell_type": "code",
   "execution_count": 28,
   "metadata": {},
   "outputs": [
    {
     "name": "stdout",
     "output_type": "stream",
     "text": [
      "accuracy score = 0.9620\n"
     ]
    }
   ],
   "source": [
    "# Let us try the prediction again.\n",
    "\n",
    "probs = another_model(X_poly)\n",
    "preds = torch.zeros_like(probs)\n",
    "preds[probs >= 0.5] = 1\n",
    "accuracy_score = torch.sum(preds == y) / n_samples\n",
    "print(f\"accuracy score = {accuracy_score:5.4f}\")\n",
    "\n",
    "# Ah-ha: The accuracy is exactly identical to one after trainining."
   ]
  },
  {
   "cell_type": "code",
   "execution_count": 29,
   "metadata": {},
   "outputs": [
    {
     "name": "stdout",
     "output_type": "stream",
     "text": [
      "w = [ 0.24031448  0.35594493 -0.74472034  0.48124748 -0.8268701 ]\n",
      "b = [0.9748954]\n"
     ]
    },
    {
     "data": {
      "image/png": "[encoded data removed]",
      "text/plain": [
       "<Figure size 400x400 with 1 Axes>"
      ]
     },
     "metadata": {},
     "output_type": "display_data"
    }
   ],
   "source": [
    "# Detach the weights and the bias and save them into other variables.\n",
    "w, b = model.lin.weight.detach().numpy().flatten(), model.lin.bias.detach().numpy()\n",
    "print(f\"w = {w}\")\n",
    "print(f\"b = {b}\")\n",
    "x1 = np.linspace(-1.5, 2, 50)\n",
    "x2 = np.linspace(-1, 1.5, 50)\n",
    "X1, X2 = np.meshgrid(x1, x2)\n",
    "Z = w[0]*X1 + w[1]*X2 + w[2]*X1**2 + w[3]*X1*X2 + w[4]*X2**2 + b\n",
    "\n",
    "t = torch.linspace(0, 2*torch.pi, 100)\n",
    "t = torch.linspace(0, 2*torch.pi, 100)\n",
    "xx = c[0] + r[0] * torch.cos(t) * torch.cos(theta) - r[1] * torch.sin(t) * torch.sin(theta)\n",
    "yy = c[1] + r[0] * torch.cos(t) * torch.sin(theta) + r[1] * torch.sin(t) * torch.cos(theta)\n",
    "\n",
    "# Visualization\n",
    "plt.figure(figsize=(4.0, 4.0))\n",
    "cs = plt.contour(X1, X2, Z, levels=[0], colors='k')\n",
    "plt.scatter(X[mask,0], X[mask,1], marker='o', color='r', s=10)\n",
    "plt.scatter(X[~mask,0], X[~mask,1], marker='x', color='b', s=10)\n",
    "plt.plot(xx, yy, 'y--')\n",
    "plt.grid(True); plt.show()"
   ]
  }
 ],
 "metadata": {
  "kernelspec": {
   "display_name": "base",
   "language": "python",
   "name": "python3"
  },
  "language_info": {
   "codemirror_mode": {
    "name": "ipython",
    "version": 3
   },
   "file_extension": ".py",
   "mimetype": "text/x-python",
   "name": "python",
   "nbconvert_exporter": "python",
   "pygments_lexer": "ipython3",
   "version": "3.12.8"
  }
 },
 "nbformat": 4,
 "nbformat_minor": 2
}
